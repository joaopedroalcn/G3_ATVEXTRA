{
 "cells": [
  {
   "cell_type": "markdown",
   "id": "112680bd",
   "metadata": {},
   "source": [
    "# Detecção de Falhas em Sinais de Sensores com Número Variável de Sensores\n",
    "\n",
    "**Universidade Federal do Maranhão**  \n",
    "Professor Dr. Thales Levi Azevedo Valente  \n",
    "Engenharia da Computação – Fundamentos de Redes Neurais\n",
    "\n",
    "## Objetivo\n",
    "\n",
    "Treinar, avaliar e explicar um modelo em TensorFlow/Keras capaz de identificar falhas em sinais de séries temporais de sensores, aceitando qualquer quantidade de sensores sem necessidade de re-treinamento."
   ]
  },
  {
   "cell_type": "markdown",
   "id": "eab0d783",
   "metadata": {},
   "source": [
    "## 1. Bibliotecas Utilizadas\n",
    "\n",
    "Abaixo estão as bibliotecas necessárias para execução do notebook."
   ]
  },
  {
   "cell_type": "code",
   "execution_count": 1,
   "id": "661fde7b",
   "metadata": {},
   "outputs": [],
   "source": [
    "# Bibliotecas principais\n",
    "import os\n",
    "import glob\n",
    "import numpy as np\n",
    "import pandas as pd\n",
    "import tensorflow as tf\n",
    "from tensorflow.keras import layers, models, callbacks, optimizers\n",
    "from sklearn.metrics import confusion_matrix, classification_report, precision_score, recall_score, f1_score\n",
    "import matplotlib.pyplot as plt\n",
    "import seaborn as sns"
   ]
  },
  {
   "cell_type": "markdown",
   "id": "8ba0913a",
   "metadata": {},
   "source": [
    "## 2. Estatísticas, Análise dos Dados e Justificativas\n",
    "\n",
    "- **Estatísticas globais** (usadas para normalização):  \n",
    "  - mínimo = −37 969.1569  \n",
    "  - máximo = 37 128.0924  \n",
    "  - Q1 = −29.3986  \n",
    "  - Q2 = 55.3385  \n",
    "  - Q3 = 319.5190  \n",
    "  - média = 31.9291  \n",
    "  - samplingRate = 1 Hz\n",
    "\n",
    "- **Justificativa da janela temporal:**  \n",
    "  - Usaremos `WINDOW = 240` (4 minutos), pois permite capturar padrões temporais relevantes sem perder granularidade.\n",
    "  - `STRIDE = 60` (1 minuto) para reduzir sobreposição excessiva e manter diversidade nas janelas.\n",
    "\n",
    "- **Divisão temporal:**  \n",
    "  - 70% treino, 15% validação, 15% teste, sem embaralhar, para respeitar a ordem temporal.\n",
    "\n",
    "- **Abordagem escolhida:**  \n",
    "  - **B. LSTM compartilhada (janela por sensor)**: cada janela é (WINDOW, 1) para cada sensor individualmente, permitindo lidar com número variável de sensores."
   ]
  },
  {
   "cell_type": "markdown",
   "id": "7ed5bb10",
   "metadata": {},
   "source": [
    "## 3. Carregamento e Preparação dos Dados\n",
    "\n",
    "- Concatenação dos CSVs\n",
    "- Normalização usando estatísticas globais\n",
    "- Conversão dos labels para binário (1 = falha, 0 = normal)\n",
    "- Criação das janelas temporais por sensor\n",
    "- Divisão temporal correta"
   ]
  },
  {
   "cell_type": "code",
   "execution_count": 2,
   "id": "9d605f96",
   "metadata": {},
   "outputs": [
    {
     "name": "stderr",
     "output_type": "stream",
     "text": [
      "C:\\Users\\C18270Q\\AppData\\Local\\Temp\\ipykernel_21168\\474610911.py:5: DtypeWarning: Columns (35) have mixed types. Specify dtype option on import or set low_memory=False.\n",
      "  df = pd.concat([pd.read_csv(f) for f in csv_files], ignore_index=True)\n"
     ]
    }
   ],
   "source": [
    "# Caminho dos arquivos CSV\n",
    "csv_files = sorted(glob.glob(os.path.join('dataset', 'dataset_parte_*.csv')))\n",
    "\n",
    "# Carregar e concatenar todos os CSVs\n",
    "df = pd.concat([pd.read_csv(f) for f in csv_files], ignore_index=True)\n",
    "\n",
    "# Identificar colunas de sensores (excluindo Timestamp e label)\n",
    "sensor_cols = [col for col in df.columns if col.startswith('sensor_')]\n",
    "\n",
    "# Normalização (Min-Max global)\n",
    "MIN, MAX = -37969.1569, 37128.0924\n",
    "df[sensor_cols] = (df[sensor_cols] - MIN) / (MAX - MIN)\n",
    "\n",
    "# Converter label para binário: 1 se há falha, 0 caso contrário\n",
    "df['target'] = df['label'].apply(lambda x: 0 if pd.isna(x) or x == '' else 1)"
   ]
  },
  {
   "cell_type": "code",
   "execution_count": 3,
   "id": "3046d7a6",
   "metadata": {},
   "outputs": [
    {
     "name": "stdout",
     "output_type": "stream",
     "text": [
      "Formato das janelas: (342040, 240, 1) (amostras, tempo, 1)\n",
      "Proporção de falhas: 0.0001\n"
     ]
    }
   ],
   "source": [
    "# Função para criar janelas por sensor\n",
    "WINDOW = 240\n",
    "STRIDE = 60\n",
    "\n",
    "def create_sensor_windows(data, window, stride, sensor_cols):\n",
    "    X, y = [], []\n",
    "    for start in range(0, len(data) - window + 1, stride):\n",
    "        end = start + window\n",
    "        window_data = data.iloc[start:end]\n",
    "        for sensor in sensor_cols:\n",
    "            X.append(window_data[sensor].values.reshape(-1, 1))\n",
    "            # Se qualquer label na janela for 1, marcamos como falha\n",
    "            y.append(window_data['target'].max())\n",
    "    return np.array(X), np.array(y)\n",
    "\n",
    "X_B, y_B = create_sensor_windows(df, WINDOW, STRIDE, sensor_cols)\n",
    "print(f'Formato das janelas: {X_B.shape} (amostras, tempo, 1)')\n",
    "print(f'Proporção de falhas: {np.mean(y_B):.4f}')"
   ]
  },
  {
   "cell_type": "code",
   "execution_count": 4,
   "id": "5c7d86d1",
   "metadata": {},
   "outputs": [
    {
     "name": "stdout",
     "output_type": "stream",
     "text": [
      "Treino: (239427, 240, 1), Validação: (51306, 240, 1), Teste: (51307, 240, 1)\n"
     ]
    }
   ],
   "source": [
    "# Divisão temporal (por janelas, já que não há embaralhamento)\n",
    "n_total_B = X_B.shape[0]\n",
    "n_train_B = int(0.7 * n_total_B)\n",
    "n_val_B = int(0.15 * n_total_B)\n",
    "\n",
    "X_train_B, y_train_B = X_B[:n_train_B], y_B[:n_train_B]\n",
    "X_val_B, y_val_B = X_B[n_train_B:n_train_B+n_val_B], y_B[n_train_B:n_train_B+n_val_B]\n",
    "X_test_B, y_test_B = X_B[n_train_B+n_val_B:], y_B[n_train_B+n_val_B:]\n",
    "\n",
    "print(f'Treino: {X_train_B.shape}, Validação: {X_val_B.shape}, Teste: {X_test_B.shape}')"
   ]
  },
  {
   "cell_type": "markdown",
   "id": "9528f059",
   "metadata": {},
   "source": [
    "## 4. Pipeline tf.data\n",
    "\n",
    "- Shuffle apenas no treino\n",
    "- Batching"
   ]
  },
  {
   "cell_type": "code",
   "execution_count": 5,
   "id": "1b850672",
   "metadata": {},
   "outputs": [],
   "source": [
    "BATCH_SIZE = 32\n",
    "ds_train_B = tf.data.Dataset.from_tensor_slices((X_train_B, y_train_B)).shuffle(1024).batch(BATCH_SIZE).prefetch(1)\n",
    "ds_val_B = tf.data.Dataset.from_tensor_slices((X_val_B, y_val_B)).batch(BATCH_SIZE).prefetch(1)\n",
    "ds_test_B = tf.data.Dataset.from_tensor_slices((X_test_B, y_test_B)).batch(BATCH_SIZE).prefetch(1)"
   ]
  },
  {
   "cell_type": "markdown",
   "id": "63b7dffb",
   "metadata": {},
   "source": [
    "## 5. Construção do Modelo (LSTM Compartilhada)\n",
    "\n",
    "- LSTM 1D compartilhada para todos os sensores\n",
    "- Camadas de normalização e regularização\n",
    "- Saída binária"
   ]
  },
  {
   "cell_type": "code",
   "execution_count": 6,
   "id": "8f2d0f51",
   "metadata": {},
   "outputs": [
    {
     "name": "stderr",
     "output_type": "stream",
     "text": [
      "c:\\Users\\C18270Q\\ATV EXTRA REDES NEURAIS\\extra-task\\.venv\\Lib\\site-packages\\keras\\src\\layers\\core\\input_layer.py:27: UserWarning: Argument `input_shape` is deprecated. Use `shape` instead.\n",
      "  warnings.warn(\n"
     ]
    },
    {
     "data": {
      "text/html": [
       "<pre style=\"white-space:pre;overflow-x:auto;line-height:normal;font-family:Menlo,'DejaVu Sans Mono',consolas,'Courier New',monospace\"><span style=\"font-weight: bold\">Model: \"sequential\"</span>\n",
       "</pre>\n"
      ],
      "text/plain": [
       "\u001b[1mModel: \"sequential\"\u001b[0m\n"
      ]
     },
     "metadata": {},
     "output_type": "display_data"
    },
    {
     "data": {
      "text/html": [
       "<pre style=\"white-space:pre;overflow-x:auto;line-height:normal;font-family:Menlo,'DejaVu Sans Mono',consolas,'Courier New',monospace\">┏━━━━━━━━━━━━━━━━━━━━━━━━━━━━━━━━━┳━━━━━━━━━━━━━━━━━━━━━━━━┳━━━━━━━━━━━━━━━┓\n",
       "┃<span style=\"font-weight: bold\"> Layer (type)                    </span>┃<span style=\"font-weight: bold\"> Output Shape           </span>┃<span style=\"font-weight: bold\">       Param # </span>┃\n",
       "┡━━━━━━━━━━━━━━━━━━━━━━━━━━━━━━━━━╇━━━━━━━━━━━━━━━━━━━━━━━━╇━━━━━━━━━━━━━━━┩\n",
       "│ lstm (<span style=\"color: #0087ff; text-decoration-color: #0087ff\">LSTM</span>)                     │ (<span style=\"color: #00d7ff; text-decoration-color: #00d7ff\">None</span>, <span style=\"color: #00af00; text-decoration-color: #00af00\">240</span>, <span style=\"color: #00af00; text-decoration-color: #00af00\">64</span>)        │        <span style=\"color: #00af00; text-decoration-color: #00af00\">16,896</span> │\n",
       "├─────────────────────────────────┼────────────────────────┼───────────────┤\n",
       "│ batch_normalization             │ (<span style=\"color: #00d7ff; text-decoration-color: #00d7ff\">None</span>, <span style=\"color: #00af00; text-decoration-color: #00af00\">240</span>, <span style=\"color: #00af00; text-decoration-color: #00af00\">64</span>)        │           <span style=\"color: #00af00; text-decoration-color: #00af00\">256</span> │\n",
       "│ (<span style=\"color: #0087ff; text-decoration-color: #0087ff\">BatchNormalization</span>)            │                        │               │\n",
       "├─────────────────────────────────┼────────────────────────┼───────────────┤\n",
       "│ lstm_1 (<span style=\"color: #0087ff; text-decoration-color: #0087ff\">LSTM</span>)                   │ (<span style=\"color: #00d7ff; text-decoration-color: #00d7ff\">None</span>, <span style=\"color: #00af00; text-decoration-color: #00af00\">64</span>)             │        <span style=\"color: #00af00; text-decoration-color: #00af00\">33,024</span> │\n",
       "├─────────────────────────────────┼────────────────────────┼───────────────┤\n",
       "│ batch_normalization_1           │ (<span style=\"color: #00d7ff; text-decoration-color: #00d7ff\">None</span>, <span style=\"color: #00af00; text-decoration-color: #00af00\">64</span>)             │           <span style=\"color: #00af00; text-decoration-color: #00af00\">256</span> │\n",
       "│ (<span style=\"color: #0087ff; text-decoration-color: #0087ff\">BatchNormalization</span>)            │                        │               │\n",
       "├─────────────────────────────────┼────────────────────────┼───────────────┤\n",
       "│ dense (<span style=\"color: #0087ff; text-decoration-color: #0087ff\">Dense</span>)                   │ (<span style=\"color: #00d7ff; text-decoration-color: #00d7ff\">None</span>, <span style=\"color: #00af00; text-decoration-color: #00af00\">64</span>)             │         <span style=\"color: #00af00; text-decoration-color: #00af00\">4,160</span> │\n",
       "├─────────────────────────────────┼────────────────────────┼───────────────┤\n",
       "│ batch_normalization_2           │ (<span style=\"color: #00d7ff; text-decoration-color: #00d7ff\">None</span>, <span style=\"color: #00af00; text-decoration-color: #00af00\">64</span>)             │           <span style=\"color: #00af00; text-decoration-color: #00af00\">256</span> │\n",
       "│ (<span style=\"color: #0087ff; text-decoration-color: #0087ff\">BatchNormalization</span>)            │                        │               │\n",
       "├─────────────────────────────────┼────────────────────────┼───────────────┤\n",
       "│ dense_1 (<span style=\"color: #0087ff; text-decoration-color: #0087ff\">Dense</span>)                 │ (<span style=\"color: #00d7ff; text-decoration-color: #00d7ff\">None</span>, <span style=\"color: #00af00; text-decoration-color: #00af00\">1</span>)              │            <span style=\"color: #00af00; text-decoration-color: #00af00\">65</span> │\n",
       "└─────────────────────────────────┴────────────────────────┴───────────────┘\n",
       "</pre>\n"
      ],
      "text/plain": [
       "┏━━━━━━━━━━━━━━━━━━━━━━━━━━━━━━━━━┳━━━━━━━━━━━━━━━━━━━━━━━━┳━━━━━━━━━━━━━━━┓\n",
       "┃\u001b[1m \u001b[0m\u001b[1mLayer (type)                   \u001b[0m\u001b[1m \u001b[0m┃\u001b[1m \u001b[0m\u001b[1mOutput Shape          \u001b[0m\u001b[1m \u001b[0m┃\u001b[1m \u001b[0m\u001b[1m      Param #\u001b[0m\u001b[1m \u001b[0m┃\n",
       "┡━━━━━━━━━━━━━━━━━━━━━━━━━━━━━━━━━╇━━━━━━━━━━━━━━━━━━━━━━━━╇━━━━━━━━━━━━━━━┩\n",
       "│ lstm (\u001b[38;5;33mLSTM\u001b[0m)                     │ (\u001b[38;5;45mNone\u001b[0m, \u001b[38;5;34m240\u001b[0m, \u001b[38;5;34m64\u001b[0m)        │        \u001b[38;5;34m16,896\u001b[0m │\n",
       "├─────────────────────────────────┼────────────────────────┼───────────────┤\n",
       "│ batch_normalization             │ (\u001b[38;5;45mNone\u001b[0m, \u001b[38;5;34m240\u001b[0m, \u001b[38;5;34m64\u001b[0m)        │           \u001b[38;5;34m256\u001b[0m │\n",
       "│ (\u001b[38;5;33mBatchNormalization\u001b[0m)            │                        │               │\n",
       "├─────────────────────────────────┼────────────────────────┼───────────────┤\n",
       "│ lstm_1 (\u001b[38;5;33mLSTM\u001b[0m)                   │ (\u001b[38;5;45mNone\u001b[0m, \u001b[38;5;34m64\u001b[0m)             │        \u001b[38;5;34m33,024\u001b[0m │\n",
       "├─────────────────────────────────┼────────────────────────┼───────────────┤\n",
       "│ batch_normalization_1           │ (\u001b[38;5;45mNone\u001b[0m, \u001b[38;5;34m64\u001b[0m)             │           \u001b[38;5;34m256\u001b[0m │\n",
       "│ (\u001b[38;5;33mBatchNormalization\u001b[0m)            │                        │               │\n",
       "├─────────────────────────────────┼────────────────────────┼───────────────┤\n",
       "│ dense (\u001b[38;5;33mDense\u001b[0m)                   │ (\u001b[38;5;45mNone\u001b[0m, \u001b[38;5;34m64\u001b[0m)             │         \u001b[38;5;34m4,160\u001b[0m │\n",
       "├─────────────────────────────────┼────────────────────────┼───────────────┤\n",
       "│ batch_normalization_2           │ (\u001b[38;5;45mNone\u001b[0m, \u001b[38;5;34m64\u001b[0m)             │           \u001b[38;5;34m256\u001b[0m │\n",
       "│ (\u001b[38;5;33mBatchNormalization\u001b[0m)            │                        │               │\n",
       "├─────────────────────────────────┼────────────────────────┼───────────────┤\n",
       "│ dense_1 (\u001b[38;5;33mDense\u001b[0m)                 │ (\u001b[38;5;45mNone\u001b[0m, \u001b[38;5;34m1\u001b[0m)              │            \u001b[38;5;34m65\u001b[0m │\n",
       "└─────────────────────────────────┴────────────────────────┴───────────────┘\n"
      ]
     },
     "metadata": {},
     "output_type": "display_data"
    },
    {
     "data": {
      "text/html": [
       "<pre style=\"white-space:pre;overflow-x:auto;line-height:normal;font-family:Menlo,'DejaVu Sans Mono',consolas,'Courier New',monospace\"><span style=\"font-weight: bold\"> Total params: </span><span style=\"color: #00af00; text-decoration-color: #00af00\">54,913</span> (214.50 KB)\n",
       "</pre>\n"
      ],
      "text/plain": [
       "\u001b[1m Total params: \u001b[0m\u001b[38;5;34m54,913\u001b[0m (214.50 KB)\n"
      ]
     },
     "metadata": {},
     "output_type": "display_data"
    },
    {
     "data": {
      "text/html": [
       "<pre style=\"white-space:pre;overflow-x:auto;line-height:normal;font-family:Menlo,'DejaVu Sans Mono',consolas,'Courier New',monospace\"><span style=\"font-weight: bold\"> Trainable params: </span><span style=\"color: #00af00; text-decoration-color: #00af00\">54,529</span> (213.00 KB)\n",
       "</pre>\n"
      ],
      "text/plain": [
       "\u001b[1m Trainable params: \u001b[0m\u001b[38;5;34m54,529\u001b[0m (213.00 KB)\n"
      ]
     },
     "metadata": {},
     "output_type": "display_data"
    },
    {
     "data": {
      "text/html": [
       "<pre style=\"white-space:pre;overflow-x:auto;line-height:normal;font-family:Menlo,'DejaVu Sans Mono',consolas,'Courier New',monospace\"><span style=\"font-weight: bold\"> Non-trainable params: </span><span style=\"color: #00af00; text-decoration-color: #00af00\">384</span> (1.50 KB)\n",
       "</pre>\n"
      ],
      "text/plain": [
       "\u001b[1m Non-trainable params: \u001b[0m\u001b[38;5;34m384\u001b[0m (1.50 KB)\n"
      ]
     },
     "metadata": {},
     "output_type": "display_data"
    }
   ],
   "source": [
    "from tensorflow.keras.initializers import HeNormal\n",
    "from tensorflow.keras.regularizers import l2\n",
    "\n",
    "model_B = models.Sequential([\n",
    "    layers.InputLayer(input_shape=(WINDOW, 1)),\n",
    "    layers.LSTM(64, return_sequences=True, kernel_initializer=HeNormal()),\n",
    "    layers.BatchNormalization(),\n",
    "    layers.LSTM(64, kernel_initializer=HeNormal(), kernel_regularizer=l2(0.01)),\n",
    "    layers.BatchNormalization(),\n",
    "    layers.Dense(64, activation='relu', kernel_initializer=HeNormal(), kernel_regularizer=l2(0.01)),\n",
    "    layers.BatchNormalization(),\n",
    "    layers.Dense(1, activation='sigmoid')\n",
    "])\n",
    "\n",
    "model_B.compile(\n",
    "    optimizer=optimizers.Adam(),\n",
    "    loss='binary_crossentropy',\n",
    "    metrics=['accuracy', tf.keras.metrics.Precision(), tf.keras.metrics.Recall()]\n",
    ")\n",
    "model_B.summary()"
   ]
  },
  {
   "cell_type": "markdown",
   "id": "9725a9dc",
   "metadata": {},
   "source": [
    "## 6. Treinamento do Modelo\n",
    "\n",
    "- ReduceLROnPlateau\n",
    "- Logs claros"
   ]
  },
  {
   "cell_type": "code",
   "execution_count": null,
   "id": "cdec0abb",
   "metadata": {},
   "outputs": [
    {
     "name": "stdout",
     "output_type": "stream",
     "text": [
      "Epoch 1/200\n",
      "\u001b[1m7483/7483\u001b[0m \u001b[32m━━━━━━━━━━━━━━━━━━━━\u001b[0m\u001b[37m\u001b[0m \u001b[1m1173s\u001b[0m 156ms/step - accuracy: 0.9937 - loss: 0.4783 - precision: 0.1114 - recall: 0.7943 - val_accuracy: 1.0000 - val_loss: 6.0122e-06 - val_precision: 0.0000e+00 - val_recall: 0.0000e+00 - learning_rate: 0.0010\n",
      "Epoch 2/200\n",
      "\u001b[1m7483/7483\u001b[0m \u001b[32m━━━━━━━━━━━━━━━━━━━━\u001b[0m\u001b[37m\u001b[0m \u001b[1m1173s\u001b[0m 156ms/step - accuracy: 0.9937 - loss: 0.4783 - precision: 0.1114 - recall: 0.7943 - val_accuracy: 1.0000 - val_loss: 6.0122e-06 - val_precision: 0.0000e+00 - val_recall: 0.0000e+00 - learning_rate: 0.0010\n",
      "Epoch 2/200\n",
      "\u001b[1m7483/7483\u001b[0m \u001b[32m━━━━━━━━━━━━━━━━━━━━\u001b[0m\u001b[37m\u001b[0m \u001b[1m1300s\u001b[0m 174ms/step - accuracy: 0.9991 - loss: 0.0075 - precision: 0.4977 - recall: 0.0293 - val_accuracy: 1.0000 - val_loss: 1.3253e-06 - val_precision: 0.0000e+00 - val_recall: 0.0000e+00 - learning_rate: 0.0010\n",
      "Epoch 3/200\n",
      "\u001b[1m7483/7483\u001b[0m \u001b[32m━━━━━━━━━━━━━━━━━━━━\u001b[0m\u001b[37m\u001b[0m \u001b[1m1300s\u001b[0m 174ms/step - accuracy: 0.9991 - loss: 0.0075 - precision: 0.4977 - recall: 0.0293 - val_accuracy: 1.0000 - val_loss: 1.3253e-06 - val_precision: 0.0000e+00 - val_recall: 0.0000e+00 - learning_rate: 0.0010\n",
      "Epoch 3/200\n",
      "\u001b[1m7483/7483\u001b[0m \u001b[32m━━━━━━━━━━━━━━━━━━━━\u001b[0m\u001b[37m\u001b[0m \u001b[1m1347s\u001b[0m 180ms/step - accuracy: 0.9991 - loss: 0.0098 - precision: 0.0000e+00 - recall: 0.0000e+00 - val_accuracy: 1.0000 - val_loss: 1.3667e-06 - val_precision: 0.0000e+00 - val_recall: 0.0000e+00 - learning_rate: 0.0010\n",
      "Epoch 4/200\n",
      "\u001b[1m7483/7483\u001b[0m \u001b[32m━━━━━━━━━━━━━━━━━━━━\u001b[0m\u001b[37m\u001b[0m \u001b[1m1347s\u001b[0m 180ms/step - accuracy: 0.9991 - loss: 0.0098 - precision: 0.0000e+00 - recall: 0.0000e+00 - val_accuracy: 1.0000 - val_loss: 1.3667e-06 - val_precision: 0.0000e+00 - val_recall: 0.0000e+00 - learning_rate: 0.0010\n",
      "Epoch 4/200\n",
      "\u001b[1m1825/7483\u001b[0m \u001b[32m━━━━\u001b[0m\u001b[37m━━━━━━━━━━━━━━━━\u001b[0m \u001b[1m17:50\u001b[0m 189ms/step - accuracy: 0.9973 - loss: 0.0270 - precision: 0.0000e+00 - recall: 0.0000e+00"
     ]
    }
   ],
   "source": [
    "reduce_lr = callbacks.ReduceLROnPlateau(monitor='val_loss', patience=10, factor=0.5, min_lr=1e-6)\n",
    "\n",
    "history = model_B.fit(\n",
    "    ds_train_B,\n",
    "    validation_data=ds_val_B,\n",
    "    epochs=200,\n",
    "    callbacks=[reduce_lr]\n",
    ")"
   ]
  },
  {
   "cell_type": "markdown",
   "id": "c521edbc",
   "metadata": {},
   "source": [
    "## 7. Avaliação em Validação e Teste\n",
    "\n",
    "- Matriz de confusão\n",
    "- Curvas ROC/AUC\n",
    "- Precision, Recall, F1-Score"
   ]
  },
  {
   "cell_type": "code",
   "execution_count": null,
   "id": "31a82906",
   "metadata": {},
   "outputs": [],
   "source": [
    "# Avaliação em Teste\n",
    "y_pred = (model_B.predict(ds_test_B) > 0.5).astype(int).flatten()\n",
    "y_true = y_test_B\n",
    "\n",
    "print(classification_report(y_true, y_pred, digits=4))\n",
    "cm = confusion_matrix(y_true, y_pred)\n",
    "plt.figure(figsize=(4,4))\n",
    "sns.heatmap(cm, annot=True, fmt='d', cmap='Blues')\n",
    "plt.xlabel('Predito')\n",
    "plt.ylabel('Real')\n",
    "plt.title('Matriz de Confusão - Teste')\n",
    "plt.show()"
   ]
  },
  {
   "cell_type": "markdown",
   "id": "0f3287ae",
   "metadata": {},
   "source": [
    "## 8. Resultados, Interpretação, Limitações e Ideias Futuras\n",
    "\n",
    "- **Resultados:** Apresente as métricas obtidas e discuta a performance.\n",
    "- **Interpretação:** Analise possíveis causas de erros e acertos.\n",
    "- **Limitações:** O modelo pode não capturar todas as interações complexas, especialmente se houver poucos exemplos de falha.\n",
    "- **Ideias Futuras:**  \n",
    "  - Testar abordagem C (espectrogramas) para explorar padrões espectrais.\n",
    "  - Experimentar diferentes tamanhos de janela e stride.\n",
    "  - Ajustar hiperparâmetros e técnicas de balanceamento de classes."
   ]
  }
 ],
 "metadata": {
  "kernelspec": {
   "display_name": ".venv",
   "language": "python",
   "name": "python3"
  },
  "language_info": {
   "codemirror_mode": {
    "name": "ipython",
    "version": 3
   },
   "file_extension": ".py",
   "mimetype": "text/x-python",
   "name": "python",
   "nbconvert_exporter": "python",
   "pygments_lexer": "ipython3",
   "version": "3.12.4"
  }
 },
 "nbformat": 4,
 "nbformat_minor": 5
}
